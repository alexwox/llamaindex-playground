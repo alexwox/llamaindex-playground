{
 "cells": [
  {
   "cell_type": "code",
   "execution_count": 2,
   "metadata": {},
   "outputs": [],
   "source": [
    "import os\n",
    "from dotenv import load_dotenv\n",
    "\n",
    "import os.path\n",
    "from llama_index.core import (\n",
    "    VectorStoreIndex,\n",
    "    SimpleDirectoryReader,\n",
    "    StorageContext,\n",
    "    load_index_from_storage,\n",
    ")\n",
    "\n",
    "load_dotenv()\n",
    "\n",
    "OPENAI_API_KEY = os.getenv(\"OPENAI_API_KEY\")"
   ]
  },
  {
   "cell_type": "code",
   "execution_count": 3,
   "metadata": {},
   "outputs": [],
   "source": [
    "from llama_index.readers.web import BeautifulSoupWebReader\n",
    "\n",
    "loader = BeautifulSoupWebReader()"
   ]
  },
  {
   "cell_type": "code",
   "execution_count": 4,
   "metadata": {},
   "outputs": [],
   "source": [
    "# check if storage already exists\n",
    "PERSIST_DIR = \"./storage-woxstai\"\n",
    "urls = [\"https://www.ratsit.se/20000920-Alexander_Gunnar_Leander_Woxstrom_Malmo/gJbgl_nvI8cLdFQJv3wY8oUCfdUwua_h9AQ80Wgnx2c\"]\n",
    "if not os.path.exists(PERSIST_DIR):\n",
    "    # load the documents and create the index\n",
    "    documents = loader.load_data(urls)\n",
    "    index = VectorStoreIndex.from_documents(documents)\n",
    "    # store it for later\n",
    "    index.storage_context.persist(persist_dir=PERSIST_DIR)\n",
    "else:\n",
    "    # load the existing index\n",
    "    storage_context = StorageContext.from_defaults(persist_dir=PERSIST_DIR)\n",
    "    index = load_index_from_storage(storage_context)"
   ]
  },
  {
   "cell_type": "code",
   "execution_count": 5,
   "metadata": {},
   "outputs": [
    {
     "name": "stdout",
     "output_type": "stream",
     "text": [
      "The websites are about Alexander Gunnar Leander Woxström, a 24-year-old individual living in Malmö. The information includes details about his address, phone number, civil status, upcoming birthday, income, and involvement in a company named Woxst AB. It also provides information on his neighbors, average income in his area, and popular individuals with the name Alexander in Sweden.\n"
     ]
    }
   ],
   "source": [
    "query_engine = index.as_query_engine(response_mode=\"tree_summarize\")\n",
    "response = query_engine.query(\"WWho are the websites about?\")\n",
    "print(response)"
   ]
  },
  {
   "cell_type": "code",
   "execution_count": 6,
   "metadata": {},
   "outputs": [
    {
     "name": "stdout",
     "output_type": "stream",
     "text": [
      "[NodeWithScore(node=TextNode(id_='4e0dcd90-6e6b-403f-a64b-1cc78aba7a3f', embedding=None, metadata={'URL': 'https://www.ratsit.se/20000920-Alexander_Gunnar_Leander_Woxstrom_Malmo/gJbgl_nvI8cLdFQJv3wY8oUCfdUwua_h9AQ80Wgnx2c'}, excluded_embed_metadata_keys=[], excluded_llm_metadata_keys=[], relationships={<NodeRelationship.SOURCE: '1'>: RelatedNodeInfo(node_id='https://www.ratsit.se/20000920-Alexander_Gunnar_Leander_Woxstrom_Malmo/gJbgl_nvI8cLdFQJv3wY8oUCfdUwua_h9AQ80Wgnx2c', node_type=<ObjectType.DOCUMENT: '4'>, metadata={'URL': 'https://www.ratsit.se/20000920-Alexander_Gunnar_Leander_Woxstrom_Malmo/gJbgl_nvI8cLdFQJv3wY8oUCfdUwua_h9AQ80Wgnx2c'}, hash='164d37c426387e879e3894d1fc75ab4cda3a1797ffc37fd98698c5b075dcd01f'), <NodeRelationship.PREVIOUS: '2'>: RelatedNodeInfo(node_id='de13bd97-c7ae-4ea6-97e7-235422581afe', node_type=<ObjectType.TEXT: '1'>, metadata={'URL': 'https://www.ratsit.se/20000920-Alexander_Gunnar_Leander_Woxstrom_Malmo/gJbgl_nvI8cLdFQJv3wY8oUCfdUwua_h9AQ80Wgnx2c'}, hash='fe60f1648aa7171320881e8bf7c6bc83c578857d7d7ec66322caf66d5707c569'), <NodeRelationship.NEXT: '3'>: RelatedNodeInfo(node_id='ead6ddc7-c3ac-4e5f-9a91-d11a2c0ea704', node_type=<ObjectType.TEXT: '1'>, metadata={}, hash='f7ba5acead1d40962987f97bcb574e44975af1f22a6f0eb518f0d0aeaa4158bb')}, text='Personuppgifter\\n\\n\\n\\nSenast uppdaterad2024-10-08\\n\\n\\n\\n\\n\\n\\n\\nAlexander Gunnar Leander Woxström\\nÅrsinkomst: Kolla Alexanders lön anonymt\\n\\nPersonnummer: 20000920-\\n\\nXXXXVisas för medlemmar\\n\\n\\nÅlder: 24 år\\nFödelsedag: 20 september 2000\\nJuridiskt kön: Man\\nNamnsdag: 12 december\\n\\nStjärntecken: \\nJungfrun\\n\\n\\nTelefon: 076-0298423\\nNamnregistrering\\nPersonnamn: Alexander Gunnar Leander Woxström\\nFörnamn: Alexander Gunnar Leander\\nTilltalsnamn: Alexander\\nEfternamn: Woxström\\nMellannamn: Finns ej registrerat\\n\\n\\nFolkbokföring\\nAdressändring: 2024-06-23\\nGatuadress: Stora Varvsgatan 43 lgh 1901\\nVåning & dörr: 9 våningen, dörr 1 från vänster\\nPostnummer: 211 10\\nPostort: Malmö\\nDistrikt: Malmö Sankt Petri\\nFörsamling: Malmö S:t Petri församling (128002)\\n\\nKommun:\\nMalmö (1280)\\n\\nLän: Skåne (12)\\nSärskild Adress\\nPersonen har ingen särskild adress registrerad.\\n\\n\\nAlexander har Självbevakning Läs mer.\\n\\n\\n\\n\\n\\nAlexander har Självbevakning Läs mer.\\n\\n\\n\\n\\n\\n\\n\\nMer om Alexander\\n\\nAlexander Gunnar Leander Woxström är en man på 24 år som bor på Stora Varvsgatan 43 lgh 1901 i Malmö. Alexanders bostad är en lägenhet med 5 rum på 133 kvm. Där har han bott i 108 dagar sedan han flyttade in den 23 juni... Läs mer om Alexander\\n\\n\\nInformationen om Alexander kommer från myndigheter, privata aktörer och egna insamlingar från Ratsit.\\n\\nLäs mer om datan här.\\n\\n\\n\\n\\n\\n\\n\\n\\n\\n\\n\\n\\n\\n\\n100% anonymtHär skickas inte en kopia till omfrågad = Anonymt\\nVad tjänar Alexander Woxström?\\n\\n\\n\\nSe Alexanders lön för 39kr\\n\\nSe Alexanders Löneranking gratis\\n\\n\\n\\nNYHET!\\n\\n\\n\\n\\n\\n\\n\\nKopia skickasHär skickas en kopia till omfrågad = inte anonymt\\nHur är Alexanders Kreditstatus?\\n\\n\\nTa en kreditupplysning för 49krHel kreditupplysning för 49kr\\nTa en anmärkningskontroll för 12kr\\n\\n\\n\\n\\n\\n\\n\\nKarta & vägbeskrivning till Stora Varvsgatan 43 lgh 1901\\n\\n\\n\\n\\n\\n\\n\\n\\n\\n\\n\\n\\n\\nLatitud: 55.61034 \\xa0\\xa0|\\xa0\\xa0 Longitud: 12.97866\\n\\n\\nVisa Gatuvy\\n\\nNavigera Till Adressen\\n\\n\\n\\n\\n\\n\\n\\n\\n\\n\\n\\n\\n\\n\\nRegistrerat på adressen\\n\\n\\n\\n\\n\\n\\n\\n\\n\\n\\n\\nStora Varvsgatan 43 lgh 1901 \\n211 10 Malmö\\n\\n\\n\\n\\n\\n\\n\\n\\n\\nPersoner\\n\\n\\nAnastasia Kolokotroni (65 år)\\n\\n\\nKolla lön direkt\\n\\n\\n\\n\\nJohn Gunnar Leander Woxström (64 år)\\n\\n\\nKolla lön direkt\\n\\n\\n\\n\\nAlexander Woxström (24 år)\\n\\n\\nKolla lön direkt\\n\\n\\n\\n\\nTelefonnummer\\n\\n076-0403459 John Gunnar Leander Woxström\\n\\n\\n076-0298423 Alexander Gunnar Leander Woxström\\n\\n\\n\\n\\n\\n\\nFöretag på adressen | 1 st\\n\\n\\n\\n\\nFöretagsnamn\\nStatus\\nAnsvarig\\nLön\\n\\n\\n\\n\\n\\n\\nWoxst AB\\n\\n\\nStatus\\n Aktiv\\nAnsvarig\\nAlexander Gunnar Leander Woxström (VD)\\n\\nLön\\nKolla lön direkt\\n\\n\\n\\n Aktiv\\nAlexander Gunnar Leander Woxström (VD)\\nKolla lön direkt\\n\\n\\n\\n\\n\\n\\n\\n\\n\\n\\n\\n\\n\\n\\nHundar på adressen\\nInga privatägda hundar med chipnummer kan knytas till adressen. I kommunen finns det 15332 hundar registrerade.', mimetype='text/plain', start_char_idx=2113, end_char_idx=4721, text_template='{metadata_str}\\n\\n{content}', metadata_template='{key}: {value}', metadata_seperator='\\n'), score=0.755669873080076), NodeWithScore(node=TextNode(id_='de13bd97-c7ae-4ea6-97e7-235422581afe', embedding=None, metadata={'URL': 'https://www.ratsit.se/20000920-Alexander_Gunnar_Leander_Woxstrom_Malmo/gJbgl_nvI8cLdFQJv3wY8oUCfdUwua_h9AQ80Wgnx2c'}, excluded_embed_metadata_keys=[], excluded_llm_metadata_keys=[], relationships={<NodeRelationship.SOURCE: '1'>: RelatedNodeInfo(node_id='https://www.ratsit.se/20000920-Alexander_Gunnar_Leander_Woxstrom_Malmo/gJbgl_nvI8cLdFQJv3wY8oUCfdUwua_h9AQ80Wgnx2c', node_type=<ObjectType.DOCUMENT: '4'>, metadata={'URL': 'https://www.ratsit.se/20000920-Alexander_Gunnar_Leander_Woxstrom_Malmo/gJbgl_nvI8cLdFQJv3wY8oUCfdUwua_h9AQ80Wgnx2c'}, hash='164d37c426387e879e3894d1fc75ab4cda3a1797ffc37fd98698c5b075dcd01f'), <NodeRelationship.NEXT: '3'>: RelatedNodeInfo(node_id='4e0dcd90-6e6b-403f-a64b-1cc78aba7a3f', node_type=<ObjectType.TEXT: '1'>, metadata={}, hash='85205a842616fe49d46997b4f270e18f5d8a3b12dcdb829645e7dc0200215565')}, text='Alexander Woxström (24 år) Malmö | Ratsit\\n\\n\\n\\n\\n\\n\\n\\n\\n\\n\\n\\n\\n\\n\\n\\n\\n\\n\\n\\n\\n\\n\\n\\n\\n\\n\\n\\n\\n\\n\\n\\n\\n\\n\\n\\n\\n\\n Verkar som att JavaScript är inaktiverat i din webbläsare. Aktivera det för att nyttja alla funktioner på vår webbplats!\\n\\n\\n\\n\\n\\n\\n\\n\\nRatsit\\n\\n\\n\\n\\n\\nSök person eller företag\\n\\n\\n\\n\\n\\nSök\\n\\n\\n\\n\\n\\n\\n\\n\\nLogga in\\n\\n\\n\\n\\n\\n\\n\\n\\n\\nMeny\\n\\n\\n\\n\\n\\n\\n\\n\\n\\n\\n\\n\\nAlla tjänster\\n\\n\\nLönekollen\\n\\n\\nRatsit Plus\\n\\n\\nRatsit Premium Nyhet!\\n\\n\\nRatsitkatalogen\\n\\n\\nSjälvbevakning\\n\\n\\nKreditupplysning\\n\\n\\nLöneranking\\n\\n\\n\\n\\n\\n\\n\\nLogga in\\n\\n\\n\\nSkapa konto\\n\\n\\n\\n\\n\\n\\n\\n\\n\\n\\n\\n\\n\\n\\nRatsit Premium\\n\\n\\n\\n\\n\\n\\n\\n\\n\\nLönekollen\\n\\n\\n\\n\\n\\n\\n\\n\\n\\nLönestatistik\\n\\n\\nMest eftersökta igår\\n\\n\\nMest omtalade personer\\n\\n\\nStatistik\\n\\n\\nRoliga fakta\\n\\n\\n\\n\\n\\n\\nOm Ratsit\\n\\n\\nRatsit A till Ö\\n\\n\\nSök person\\n\\n\\nPersoner geografiskt\\n\\n\\nFöretag geografiskt\\n\\n\\nFAQ\\n\\n\\n\\n\\n\\n\\n\\n\\n\\n\\n\\n\\n\\n Personen\\n På adressen\\n Bostad\\n Bolag\\n\\n\\nSeinkomst\\n\\n\\n\\n\\n\\n\\n\\n\\n\\n\\nVill du veta vad Alexander Gunnar Leander tjänar?\\n\\nKöp Lönekollen för 39kr\\n\\n\\n\\n\\n\\n\\n\\n\\n\\nFå ut det mesta av Ratsit\\n10 Lönekollar/mån, Löneranking, topplistor, följa mm. Avsluta när du vill. 100% anonymt. 100% reklamfritt.\\n\\n\\nKöp Ratsit Plus för 59kr/mån\\n\\n\\n\\n\\n\\n\\n\\n\\n\\n\\n\\n\\n\\n\\n\\n\\n\\nHem\\nPersoner\\nMalmö kommun-Öster\\nMalmö - 211 10\\nStora Varvsgatan\\nStora Varvsgatan 43\\nAlexander Gunnar Leander, Woxström\\n\\n\\n\\n8 449 915 deklarationer är uppdaterade - Lönekolla vem du vill\\n\\n\\n\\n\\n\\n\\nKopiera namnKopiera namn + adress\\n\\n\\nKopiera adressKopiera namn + adress\\n\\n\\nKopiera personnummer\\n\\n\\n{{ slotProps.copyInfoText }}\\n\\n\\n\\n\\n\\n\\n\\nAlexander Woxström\\n\\n\\n\\n\\n\\nÅlder: 24 år\\n\\n\\n\\n\\nKolla Alexanders lön anonymt\\n\\n\\n\\n\\n\\n\\n\\n\\n\\n\\n\\n\\n\\n\\nPersonnummer\\n\\n20000920-\\n\\nXXXXVisas för medlemmar\\n\\n\\n\\n\\n\\n\\n\\nVisa personuppgifter\\n\\n\\n\\n\\n\\n\\n\\n\\n\\nAdress\\n\\nStora Varvsgatan 43 lgh 1901\\n211 10 Malmö\\n\\n\\n\\n\\n\\n\\nVisa karta\\n\\n\\n\\n\\n\\n\\n\\n\\nTelefon\\n\\n076-0298423\\n\\n\\n\\n\\n\\nRing \\n\\n\\n\\n\\n\\n\\n\\n\\n\\n\\nBolagsengagemang\\n1 st\\n\\n\\n\\n\\nVisa bolag\\n\\n\\n\\n\\n\\n\\n\\n\\n\\n\\n\\nCivilstånd\\nAlexander är inte gift\\n\\n\\n\\n\\n\\n\\n\\n\\n\\n\\n\\n\\n\\n\\nFå ut det mesta av Ratsit\\n\\n10 Lönekollar per månad, lönetopplistor, inkomstmiljonärer mm. Avsluta när du vill. 100% anonymt.\\n\\n\\n\\nKöp Ratsit Plus för 59kr/mån\\n\\n\\n\\n\\n\\n\\n\\n\\n\\n\\n\\nHem\\nPersoner\\nMalmö kommun-Öster\\nMalmö - 211 10\\nStora Varvsgatan\\nStora Varvsgatan 43\\nAlexander Gunnar Leander, Woxström\\n\\n\\n\\n8 449 915 deklarationer är uppdaterade - Lönekolla vem du vill\\n\\n\\n\\n\\nPersonuppgifter\\n\\n\\n\\nSenast uppdaterad2024-10-08\\n\\n\\n\\n\\n\\n\\n\\nAlexander Gunnar Leander Woxström\\nÅrsinkomst: Kolla Alexanders lön anonymt\\n\\nPersonnummer: 20000920-\\n\\nXXXXVisas för medlemmar\\n\\n\\nÅlder: 24 år\\nFödelsedag: 20 september 2000\\nJuridiskt kön: Man\\nNamnsdag: 12 december\\n\\nStjärntecken: \\nJungfrun\\n\\n\\nTelefon: 076-0298423\\nNamnregistrering\\nPersonnamn: Alexander Gunnar Leander Woxström\\nFörnamn: Alexander Gunnar Leander\\nTilltalsnamn: Alexander\\nEfternamn: Woxström\\nMellannamn: Finns ej registrerat', mimetype='text/plain', start_char_idx=4, end_char_idx=2599, text_template='{metadata_str}\\n\\n{content}', metadata_template='{key}: {value}', metadata_seperator='\\n'), score=0.7534165282512258)]\n"
     ]
    }
   ],
   "source": [
    "query_engine = index.as_query_engine(response_mode=\"tree_summarize\", streaming=True)\n",
    "response = query_engine.query(\"WHo is the website about? What information is available about the person?\")\n",
    "print(response.source_nodes)"
   ]
  }
 ],
 "metadata": {
  "kernelspec": {
   "display_name": "base",
   "language": "python",
   "name": "python3"
  },
  "language_info": {
   "codemirror_mode": {
    "name": "ipython",
    "version": 3
   },
   "file_extension": ".py",
   "mimetype": "text/x-python",
   "name": "python",
   "nbconvert_exporter": "python",
   "pygments_lexer": "ipython3",
   "version": "3.11.7"
  }
 },
 "nbformat": 4,
 "nbformat_minor": 2
}
