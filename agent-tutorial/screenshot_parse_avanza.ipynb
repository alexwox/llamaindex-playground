{
 "cells": [
  {
   "cell_type": "code",
   "execution_count": 1,
   "metadata": {},
   "outputs": [],
   "source": [
    "import os\n",
    "from dotenv import load_dotenv\n",
    "\n",
    "# Load environment variables from ../.env\n",
    "load_dotenv(dotenv_path='../.env')\n",
    "\n",
    "# Access the OPENAI_API_KEY\n",
    "openai_api_key = os.getenv('OPENAI_API_KEY')\n",
    "\n",
    "if openai_api_key is None:\n",
    "    raise ValueError(\"OPENAI_API_KEY not found in the environment variables\")\n"
   ]
  },
  {
   "cell_type": "code",
   "execution_count": 6,
   "metadata": {},
   "outputs": [
    {
     "name": "stdout",
     "output_type": "stream",
     "text": [
      "Loaded as API: https://microsoft-omniparser.hf.space ✔\n",
      "('/private/var/folders/4l/xzbwfz351fb1xv7gjqv5634m0000gn/T/gradio/91fe12b92e71224f906fe87a8cb0a117ce46628e2bd5be5e1b18b3ad360b649c/image.webp', 'Text Box ID 0: Aktier\\nText Box ID 1: Utveckling\\nText Box ID 2: Inkopsinfoe\\nText Box ID 3: Historik\\nText Box ID 4: Nyckeltal\\nText Box ID 5: Utdelningare\\nText Box ID 6: tt Anpassa\\nText Box ID 7: Land Namn \\nText Box ID 8: Konto\\nText Box ID 9: Antal\\nText Box ID 10: 1 dag %\\nText Box ID 11: Senast\\nText Box ID 12: Sedan kop\\nText Box ID 13: Sedan kop %.\\nText Box ID 14: Varde\\nText Box ID 15: Verktyge\\nText Box ID 16: Kop Salj\\nText Box ID 17:  Coinbase Global Ae\\nText Box ID 18: ISK - Alte....\\nText Box ID 19: 437\\nText Box ID 20: 0,00%\\nText Box ID 21: 319,13\\nText Box ID 22: +214 533 kr\\nText Box ID 23: +16,41%\\nText Box ID 24: 1 521 507 kr\\nText Box ID 25: 0\\nText Box ID 26: 4\\nText Box ID 27: Totalt vardee\\nText Box ID 28: 0,00%\\nText Box ID 29: +214 533 kr\\nText Box ID 30: +16,41%\\nText Box ID 31: 1 521 507 kr\\nText Box ID 32: Fonder\\nText Box ID 33: Utveckling\\nText Box ID 34: Inkopsinfoe\\nText Box ID 35: Historik\\nText Box ID 36: tt Anpassa\\nText Box ID 37: Namn \\nText Box ID 38: Konto\\nText Box ID 39: 1 dag %\\nText Box ID 40: Kursdag\\nText Box ID 41:  Sedan kop\\nText Box ID 42: Sedan kop %\\nText Box ID 43: Varde\\nText Box ID 44: Verktyg\\nText Box ID 45: Kop Salj Byt\\nText Box ID 46: Swedbank Robur Technology A\\nText Box ID 47: ISK - Fond....\\nText Box ID 48: +0,65%\\nText Box ID 49: Igar\\nText Box ID 50: +168 562 kr\\nText Box ID 51: +16,86%\\nText Box ID 52: 1168 562 kr\\nText Box ID 53: 0\\nText Box ID 54: Totalt vardee\\nText Box ID 55: +0,65%\\nText Box ID 56: +168 562 kr\\nText Box ID 57: +16,86%\\nText Box ID 58: 1 168 562 kr\\nText Box ID 59: Certifikat\\nText Box ID 60: Utveckling\\nText Box ID 61: Inkopsinfoe\\nText Box ID 62: Historik\\nText Box ID 63: tt Anpassa\\nText Box ID 64: Kontoe\\nText Box ID 65: Antal\\nText Box ID 66: 1 dag %\\nText Box ID 67: Land Namn \\nText Box ID 68: Uppdaterad\\nText Box ID 69: Senast\\nText Box ID 70: Inkopskurse\\nText Box ID 71: Sedan kop\\nText Box ID 72: Sedan kop %.\\nText Box ID 73: Vardee\\nText Box ID 74: Verktyg\\nText Box ID 75: Kop Salj\\nText Box ID 76: +\\nText Box ID 77: Valour Bitcoin (BTC) Zero SEK\\nText Box ID 78: ISK - A...\\nText Box ID 79: 20 923\\nText Box ID 80: +1,57%\\nText Box ID 81: 14:32\\nText Box ID 82: 96,29\\nText Box ID 83: 72,22 SEK\\nText Box ID 84: +503 556 kr\\nText Box ID 85: +33,32%\\nText Box ID 86: 2 014 676 kr\\nText Box ID 87: 0\\nText Box ID 88: 0\\nText Box ID 89: Kop\\nText Box ID 90: Salj\\nText Box ID 91: +\\nText Box ID 92: Valour Ethereum (ETH) Zero SEK\\nText Box ID 93: ISK - A...\\nText Box ID 94: 36 560\\nText Box ID 95: -2,94%\\nText Box ID 96: 14:33\\nText Box ID 97: 34,63\\nText Box ID 98: 30,24 SEK\\nText Box ID 99: +160 456 kr\\nText Box ID 100: +14,51%\\nText Box ID 101: 1 266 073 kr\\nText Box ID 102: 0\\nText Box ID 103: 0\\nText Box ID 104: Kop\\nText Box ID 105: Salj\\nText Box ID 106: +\\nText Box ID 107: Valour Solana (SOL) SEK\\nText Box ID 108: ISK - A...\\nText Box ID 109: 72 674\\nText Box ID 110: -2,04%\\nText Box ID 111: 14:33\\nText Box ID 112: 20,18\\nText Box ID 113: 16,26 SEK\\nText Box ID 114: +284 933 kr\\nText Box ID 115: +24,11%\\nText Box ID 116: 1 466 561 kr\\nText Box ID 117: 0\\nText Box ID 118: Totalt vardee\\nText Box ID 119: -0,79%\\nText Box ID 120: +948 945 kr\\nText Box ID 121: +24,98%\\nText Box ID 122: 4 747 310 kr\\nText Box ID 123: Sedan kop\\nText Box ID 124: Sedan kop %.\\nText Box ID 125: Varde\\nText Box ID 126: Totalt varde alla vardepapper\\nText Box ID 127: +1 332 041 kr\\nText Box ID 128: +21,82%\\nText Box ID 129: 7 437 378 kr\\nIcon Box ID 130: a favorite or bookmark function.\\nIcon Box ID 131: a favorite or bookmark function.\\nIcon Box ID 132: a favorite or bookmark function.\\nIcon Box ID 133: The United States flag or flag-related feature.\\nIcon Box ID 134: Notifications\\nIcon Box ID 135: Draw Functions\\nIcon Box ID 136: Five-point star', \"{'0': [0.025968669567438363, 0.043507367891161, 0.04987634279859626, 0.03145917001338688], '1': [0.190436933223413, 0.04350736278447122, 0.06183017312448475, 0.029451137884872823], '2': [0.2926628446146563, 0.04350736278447122, 0.06141797197032152, 0.029451137884872823], '3': [0.39365210222588626, 0.04484605087014726, 0.04781533388293487, 0.02610441767068273], '4': [0.4802143446001649, 0.04350736278447122, 0.05605935696619951, 0.029451137884872823], '5': [0.5758450123660346, 0.039491298527443104, 0.0663643858202803, 0.03547523427041499], '6': [0.9010717230008244, 0.04350736278447122, 0.06760098928276999, 0.029451137884872823], '7': [0.1417972096115326, 0.10575635876840696, 0.07172298824502138, 0.024765729585006693], '8': [0.36438582028029676, 0.10441767068273092, 0.03338829348722176, 0.02610441767068273], '9': [0.4439406430338005, 0.10441767068273092, 0.030915086562242376, 0.02744310575635877], '10': [0.5012366034624897, 0.10575635876840696, 0.0416323165704864, 0.024765729585006693], '11': [0.5667765869744436, 0.10441767068273092, 0.03833470733718054, 0.02610441767068273], '12': [0.6356141797197032, 0.10575635876840696, 0.05276174773289365, 0.024765729585006693], '13': [0.7230008244023083, 0.10575635876840696, 0.06224237427864798, 0.024765729585006693], '14': [0.8363561417971971, 0.10441767068273092, 0.03338829348722176, 0.02610441767068273], '15': [0.927040395713108, 0.0997322623828648, 0.0416323165704864, 0.03681392235609103], '16': [0.04740313587361687, 0.15060240963855423, 0.053173948887056885, 0.03547523427041499], '17': [0.17394888705688377, 0.15796520432315198, 0.08944765045342128, 0.024096375328789114], '18': [0.3656224489015483, 0.15796520432315198, 0.055234954657873044, 0.024096375328789114], '19': [0.45094806265457543, 0.15595717219463792, 0.023907666941467436, 0.02811246001257635], '20': [0.5094806265457543, 0.15595716198125836, 0.03338829348722176, 0.02610441767068273], '21': [0.5688375927452597, 0.15595716198125836, 0.036273701566364384, 0.02610441767068273], '22': [0.6290190115706152, 0.15796520432315198, 0.05935696619950536, 0.024096375328789114], '23': [0.7427865301196671, 0.15595716198125836, 0.043693322341302555, 0.02610441767068273], '24': [0.8054411055524784, 0.1539491298527443, 0.06306672626945074, 0.030120481927710843], '25': [0.9010717230008244, 0.15796520432315198, 0.01772464962901896, 0.024096375328789114], '26': [0.9208573784006595, 0.15595717219463792, 0.025968672712283595, 0.02811246001257635], '27': [0.025968672712283595, 0.21552878179384202, 0.0572959604286892, 0.024096385542168676], '28': [0.5094806265457543, 0.21352074966532797, 0.03215158938968467, 0.02610441767068273], '29': [0.6290190115706152, 0.21552878179384202, 0.05935696619950536, 0.024096385542168676], '30': [0.74154982602213, 0.21552878179384202, 0.043693322341302555, 0.024096385542168676], '31': [0.8062654575432812, 0.21552878179384202, 0.06265457543281121, 0.024096385542168676], '32': [0.023907670086312668, 0.2931726703362931, 0.0572959604286892, 0.03145917001338688], '33': [0.190436933223413, 0.2891566265060241, 0.06100577081615829, 0.03748326639892905], '34': [0.2926628446146563, 0.29518072289156627, 0.06141797197032152, 0.029451178738391065], '35': [0.39365210222588626, 0.2971887550200803, 0.04699093157460841, 0.024096385542168676], '36': [0.9010717230008244, 0.29518072289156627, 0.06760098928276999, 0.029451178738391065], '37': [0.17518549051937346, 0.35609103078982596, 0.04245671887881286, 0.02610441767068273], '38': [0.36974446044318066, 0.35609103078982596, 0.03338829348722176, 0.02610441767068273], '39': [0.4686727626011181, 0.35609103078982596, 0.0416323165704864, 0.02610441767068273], '40': [0.5465786801029214, 0.3500669344042838, 0.04534212695795548, 0.03614457831325301], '41': [0.6306677658697445, 0.3500668935507656, 0.05605935696619951, 0.03547523427041499], '42': [0.7316570486397362, 0.35207496653279785, 0.06595218466611706, 0.03346720214190094], '43': [0.8573784006595219, 0.35609103078982596, 0.034212695795548226, 0.02610441767068273], '44': [0.9282769991755977, 0.3534136546184739, 0.03957131079967024, 0.03279785809906292], '45': [0.053173948887056885, 0.4062918340026774, 0.07708161582852432, 0.029451137884872823], '46': [0.17930750206100576, 0.40963855421686746, 0.14674361088211046, 0.022757697456492636], '47': [0.36974446044318066, 0.40829986613119146, 0.05729593526992735, 0.024096385542168676], '48': [0.4727947238252267, 0.40829986613119146, 0.03751030502885408, 0.024096385542168676], '49': [0.5676009389652463, 0.40829986613119146, 0.023907666941467436, 0.02744310575635877], '50': [0.6269580057997991, 0.40829986613119146, 0.05935696619950536, 0.024096385542168676], '51': [0.7530915086562242, 0.40829986613119146, 0.043693322341302555, 0.024096385542168676], '52': [0.8281121187139324, 0.40829986613119146, 0.06265457543281121, 0.024096385542168676], '53': [0.9262159934047816, 0.40829986613119146, 0.014427040395713108, 0.024096385542168676], '54': [0.025968672712283595, 0.46519410977242304, 0.0572959604286892, 0.024096385542168676], '55': [0.47197032151690027, 0.46519410977242304, 0.03833470733718054, 0.02610441767068273], '56': [0.6281946092622888, 0.4685408299866131, 0.0572959604286892, 0.019410977242302542], '57': [0.7530915589737479, 0.46720214190093706, 0.04286892003297609, 0.024096385542168676], '58': [0.8293487221764221, 0.4685408299866131, 0.060181368507831824, 0.019410977242302542], '59': [0.02514427040395713, 0.5468540829986613, 0.07378400659521847, 0.029451137884872823], '60': [0.190436933223413, 0.5408299866131191, 0.06100577081615829, 0.03614457831325301], '61': [0.2926628446146563, 0.5448460508701473, 0.06141797197032152, 0.030120481927710843], '62': [0.39365210222588626, 0.5468540829986613, 0.04699093157460841, 0.02610441767068273], '63': [0.9018961253091509, 0.5488621151271754, 0.06595218466611706, 0.024096467249205153], '64': [0.33553173948887055, 0.6017403353648971, 0.03215169002473207, 0.03279785809906292], '65': [0.3936521273846481, 0.6057563996219252, 0.03132726255764375, 0.028112449799196786], '66': [0.4361088211046991, 0.6004016064257028, 0.043281121187139324, 0.03547523427041499], '67': [0.11253090250718131, 0.607764390896921, 0.06966199505358615, 0.024096467249205153], '68': [0.49381693237002783, 0.607764390896921, 0.05935696619950536, 0.024096467249205153], '69': [0.5667765366569198, 0.607764390896921, 0.03751030502885408, 0.02610441767068273], '70': [0.6187139323990107, 0.607764390896921, 0.05647155812036274, 0.024096467249205153], '71': [0.6896124805975629, 0.6057563587684069, 0.055234954657873044, 0.029451137884872823], '72': [0.7592745762861964, 0.607764390896921, 0.06265457543281121, 0.024096467249205153], '73': [0.8561417971970322, 0.6017403353648971, 0.0325638911788953, 0.03279785809906292], '74': [0.9282769991755977, 0.6091031198361153, 0.0403957131079967, 0.02610441767068273], '75': [0.04286892003297609, 0.6559572028347767, 0.05276174773289365, 0.03145912915986864], '76': [0.12407254740313273, 0.65997314453125, 0.015663643858202802, 0.024096467249205153], '77': [0.14591920857378401, 0.65997314453125, 0.14138499587798845, 0.024096467249205153], '78': [0.33635614179719703, 0.6579651941097724, 0.043693322341302555, 0.02610441767068273], '79': [0.38664470776387316, 0.6579651941097724, 0.03751027987009223, 0.02610441767068273], '80': [0.44064303380049463, 0.6579651941097724, 0.03833470733718054, 0.02610441767068273], '81': [0.5230832646331409, 0.6579651941097724, 0.030090684253915912, 0.02610441767068273], '82': [0.5729596546044157, 0.6579651941097724, 0.031327287716405604, 0.02610441767068273], '83': [0.6240725474031328, 0.6579651941097724, 0.051112943116240726, 0.02610441767068273], '84': [0.683429513602638, 0.65997314453125, 0.05935696619950536, 0.024096467249205153], '85': [0.7802968351485212, 0.6613119143239625, 0.04451772464962902, 0.019410977242302542], '86': [0.8239901071723, 0.65997314453125, 0.06677658697444352, 0.024096467249205153], '87': [0.8998351195383347, 0.6599732262382865, 0.015663643858202802, 0.02610441767068273], '88': [0.9291014014839242, 0.6633199464524766, 0.010305028854080791, 0.018741633199464525], '89': [0.04286892003297609, 0.7048192771084337, 0.025968672712283595, 0.028112449799196786], '90': [0.07131079967023908, 0.7021419009370816, 0.021846661170651278, 0.03346720214190094], '91': [0.12407254740313273, 0.7068273092369478, 0.015663643858202802, 0.024096385542168676], '92': [0.14591920857378401, 0.7068273092369478, 0.15292662819455893, 0.024096385542168676], '93': [0.3363561166384352, 0.7068273092369478, 0.04080791426215993, 0.024096385542168676], '94': [0.38664470776387316, 0.7048192771084337, 0.03751027987009223, 0.02610441767068273], '95': [0.4414674361088211, 0.7048192771084337, 0.03751030502885408, 0.02610441767068273], '96': [0.5218466611706513, 0.7008032128514057, 0.030090684253915912, 0.0321285140562249], '97': [0.5717230008244023, 0.7048192771084337, 0.0325638911788953, 0.02610441767068273], '98': [0.6228358936231193, 0.7048192771084337, 0.053173948887056885, 0.028112449799196786], '99': [0.683429513602638, 0.7068273092369478, 0.06018126787278442, 0.024096385542168676], '100': [0.7790601813685079, 0.7068273092369478, 0.043693322341302555, 0.024096385542168676], '101': [0.8260511129431163, 0.7068273092369478, 0.06347897774113767, 0.024096385542168676], '102': [0.8998351195383347, 0.7068273092369478, 0.015663643858202802, 0.02610441767068273], '103': [0.9291014014839242, 0.7081659973226239, 0.010305028854080791, 0.019410977242302542], '104': [0.04286892003297609, 0.7516733601070951, 0.028029678483099753, 0.028112449799196786], '105': [0.0708986048057663, 0.7516733601070951, 0.023907666941467436, 0.028112449799196786], '106': [0.12407254740313273, 0.7536813922356091, 0.015663643858202802, 0.024096385542168676], '107': [0.14591920857378401, 0.7536813922356091, 0.11665292662819456, 0.024096385542168676], '108': [0.33635614179719703, 0.7516733601070951, 0.04286892003297609, 0.02610441767068273], '109': [0.3866446826051113, 0.7516733601070951, 0.03833470733718054, 0.02610441767068273], '110': [0.4414674361088211, 0.7516733601070951, 0.03751030502885408, 0.02610441767068273], '111': [0.5218466108531276, 0.7516733601070951, 0.031327287716405604, 0.02610441767068273], '112': [0.5729596546044157, 0.7516733601070951, 0.031327287716405604, 0.02610441767068273], '113': [0.6240725474031328, 0.7536813922356091, 0.051112943116240726, 0.024096385542168676], '114': [0.683429513602638, 0.7536813922356091, 0.06018126787278442, 0.024096385542168676], '115': [0.7786479802143446, 0.749665327978581, 0.04245671887881286, 0.030120481927710843], '116': [0.8248145094806265, 0.7536813922356091, 0.06471558120362737, 0.024096385542168676], '117': [0.9010717230008244, 0.7536813922356091, 0.015663643858202802, 0.024096385542168676], '118': [0.02514427040395713, 0.8105756358768407, 0.058120362737015666, 0.024765729585006693], '119': [0.4414674361088211, 0.8092369477911646, 0.03751030502885408, 0.02610441767068273], '120': [0.6838417147568013, 0.8072289156626506, 0.0585325638911789, 0.030120481927710843], '121': [0.7790601813685079, 0.8105756358768407, 0.043693322341302555, 0.024765729585006693], '122': [0.8260511129431163, 0.8105756358768407, 0.06265457543281121, 0.024765729585006693], '123': [0.7345424064013552, 0.892235609103079, 0.06141797197032152, 0.029451137884872823], '124': [0.8103874690849134, 0.8955823293172691, 0.07089859851607584, 0.024765729585006693], '125': [0.9311624072547403, 0.8942436412315931, 0.036685902720527616, 0.02610441767068273], '126': [0.02720527617477329, 0.9096385542168675, 0.1549876339653751, 0.024096385542168676], '127': [0.7159934047815334, 0.9143239625167336, 0.07831821929101401, 0.03413654618473896], '128': [0.8322341302555647, 0.9216867469879518, 0.04987633965375103, 0.024765729585006693], '129': [0.8953009068425392, 0.9163319946452476, 0.07213520197856554, 0.03346720214190094], '130': [0.9476654480433326, 0.65263801789188, 0.021249694069455895, 0.036536894648908136], '131': [0.9470678771318528, 0.4009703364238203, 0.021975071491137674, 0.03431703702832162], '132': [0.9481962979183842, 0.7006375926884622, 0.01932152656121187, 0.03348354354919679], '133': [0.1520307498438144, 0.1575890557673402, 0.015173576336111397, 0.02177553802449381], '134': [0.9248787548948887, 0.7490629019986195, 0.015905973052349545, 0.03169677407546854], '135': [0.9488630051074299, 0.15345958214367889, 0.01651582143961253, 0.0299312484312249], '136': [0.9499256105729597, 0.7519718359113537, 0.014448173755667766, 0.028508728926121153]}\")\n"
     ]
    }
   ],
   "source": [
    "from gradio_client import Client, handle_file\n",
    "\n",
    "client = Client(\"microsoft/OmniParser\", verbose=True)\n",
    "result = client.predict(\n",
    "\t\timage_input=handle_file('avanza_screenshot.png'),\n",
    "\t\tbox_threshold=0.05,\n",
    "\t\tiou_threshold=0.1,\n",
    "\t\tapi_name=\"/process\"\n",
    ")\n",
    "print(result)\n",
    "\n",
    "\n"
   ]
  },
  {
   "cell_type": "code",
   "execution_count": 8,
   "metadata": {},
   "outputs": [
    {
     "name": "stdout",
     "output_type": "stream",
     "text": [
      "This data represents a collection of text boxes containing information related to stocks, funds, and certificates. Each text box has an ID associated with it, and the data includes details such as stock names, account information, performance metrics, and values. Additionally, there are icon boxes with functions like favorite or bookmark options, a United States flag feature, notifications, and draw functions.\n",
      "\n",
      "The data also includes coordinates for each text box, specifying its position and size on a graphical user interface. These coordinates are represented as percentages of the total screen size. The last part of the data contains information about the position and size of various icon boxes on the interface.\n",
      "\n",
      "Overall, this data provides structured information about financial instruments and their performance, along with details about the graphical user interface elements that display this information.\n"
     ]
    }
   ],
   "source": [
    "from llama_index.core import Document\n",
    "from llama_index.llms.openai import OpenAI\n",
    "from llama_index.core import Settings\n",
    "\n",
    "# Initialize OpenAI\n",
    "Settings.llm = OpenAI(model=\"gpt-3.5-turbo\")\n",
    "\n",
    "# Create a document from the result\n",
    "doc = Document(text=str(result))\n",
    "\n",
    "# Create a simple prompt to analyze the content\n",
    "prompt = \"Please explain what this data represents and what kind of information it contains. Data: {}\"\n",
    "response = Settings.llm.complete(prompt.format(str(result)))\n",
    "\n",
    "print(response.text)"
   ]
  },
  {
   "cell_type": "code",
   "execution_count": 9,
   "metadata": {},
   "outputs": [
    {
     "name": "stdout",
     "output_type": "stream",
     "text": [
      "### Stock Information\n",
      "\n",
      "| Stock Name             | Account Type | 1 Day % Change | Last Price | Change Since Purchase | Change Since Purchase % | Total Value |\n",
      "|------------------------|--------------|----------------|------------|-----------------------|------------------------|-------------|\n",
      "| Coinbase Global Ae     | ISK - Alte...| 0.00%          | 319.13     | +214 533 kr           | +16.41%                | 1 521 507 kr|\n",
      "| Swedbank Robur Technology A | ISK - Fond...| +0.65%   | Igar       | +168 562 kr           | +16.86%                | 1 168 562 kr|\n",
      "| Valour Bitcoin (BTC) Zero SEK | ISK - A...| +1.57%     | 96.29      | +503 556 kr           | +33.32%                | 2 014 676 kr|\n",
      "| Valour Ethereum (ETH) Zero SEK | ISK - A...| -2.94%    | 34.63      | +160 456 kr           | +14.51%                | 1 266 073 kr|\n",
      "| Valour Solana (SOL) SEK | ISK - A...| -2.04%         | 20.18      | +284 933 kr           | +24.11%                | 1 466 561 kr|\n",
      "\n",
      "### Financial Metrics\n",
      "\n",
      "- Total Value of all Securities: 7 437 378 kr\n",
      "- Total Value of all Securities Change: +1 332 041 kr\n",
      "- Total Value of all Securities Change %: +21.82%\n",
      "\n",
      "### Other Relevant Data\n",
      "\n",
      "- Favorite or Bookmark Function: Available\n",
      "- United States Flag Feature: Not Available\n",
      "- Notifications: Available\n",
      "- Draw Functions: Available\n",
      "- Five-point Star: Available\n"
     ]
    }
   ],
   "source": [
    "# Create a more structured prompt to analyze and format the data into tables\n",
    "table_prompt = \"\"\"\n",
    "Please analyze this data and structure it into clear tables. Focus on:\n",
    "1. Stock information (price, change, etc)\n",
    "2. Any financial metrics present\n",
    "3. Any other relevant data that can be organized\n",
    "\n",
    "Present the information in a clear tabular format using markdown tables.\n",
    "\n",
    "Data: {}\n",
    "\"\"\"\n",
    "\n",
    "table_response = Settings.llm.complete(table_prompt.format(str(result)))\n",
    "\n",
    "print(table_response.text)\n"
   ]
  },
  {
   "cell_type": "code",
   "execution_count": 16,
   "metadata": {},
   "outputs": [
    {
     "name": "stdout",
     "output_type": "stream",
     "text": [
      "Extracted tickers: ['Coinbase Global Ae', 'Valour Bitcoin (BTC) Zero SEK', 'Valour Ethereum (ETH) Zero SEK', 'Valour Solana (SOL) SEK']\n",
      "\n",
      "Allocation Analysis:\n",
      "{\n",
      "    'Coinbase Global Ae': 1521507,\n",
      "    'Swedbank Robur Technology A': 1168562,\n",
      "    'Valour Bitcoin (BTC) Zero SEK': 2014676,\n",
      "    'Valour Ethereum (ETH) Zero SEK': 1266073,\n",
      "    'Valour Solana (SOL) SEK': 1466561\n",
      "}\n",
      "\n",
      "Formatted Allocations:\n",
      "Coinbase Global Ae: 1,521,507.00 SEK\n",
      "Swedbank Robur Technology A: 1,168,562.00 SEK\n",
      "Valour Bitcoin (BTC) Zero SEK: 2,014,676.00 SEK\n",
      "Valour Ethereum (ETH) Zero SEK: 1,266,073.00 SEK\n",
      "Valour Solana (SOL) SEK: 1,466,561.00 SEK\n"
     ]
    }
   ],
   "source": [
    "# Create a prompt to extract stock tickers\n",
    "ticker_prompt = \"\"\"\n",
    "Please analyze this data and extract all tickers of the assets mentioned on each row. \n",
    "\n",
    "Return the tickers that would be valid for Yahoo Finance API (e.g., AAPL, MSFT, etc.).\n",
    "Format the response as a simple comma-separated list of tickers.\n",
    "\n",
    "Data: {}\n",
    "\"\"\"\n",
    "\n",
    "ticker_response = Settings.llm.complete(ticker_prompt.format(str(result)))\n",
    "\n",
    "# Convert the response into a list of tickers\n",
    "tickers = [ticker.strip() for ticker in ticker_response.text.split(',') if ticker.strip()]\n",
    "\n",
    "print(\"Extracted tickers:\", tickers)\n",
    "\n",
    "# Create a prompt to extract allocation values\n",
    "allocation_prompt = \"\"\"\n",
    "Please analyze this data and extract the total value allocated to each asset or stock.\n",
    "Present the information as a dictionary format with the asset name as the key and the allocated value as the number.\n",
    "Only include entries that have clear monetary values allocated to them.\n",
    "\n",
    "Data: {}\n",
    "\"\"\"\n",
    "\n",
    "allocation_response = Settings.llm.complete(allocation_prompt.format(str(result)))\n",
    "\n",
    "print(\"\\nAllocation Analysis:\")\n",
    "print(allocation_response.text)\n",
    "\n",
    "# Convert the response into a dictionary (assuming the LLM returns a valid Python dictionary format)\n",
    "try:\n",
    "    # Using ast.literal_eval is safer than eval() for converting string to dict\n",
    "    import ast\n",
    "    allocations = ast.literal_eval(allocation_response.text)\n",
    "    \n",
    "    # Print formatted allocations\n",
    "    print(\"\\nFormatted Allocations:\")\n",
    "    for asset, value in allocations.items():\n",
    "        print(f\"{asset}: {value:,.2f} SEK\")\n",
    "        \n",
    "except (ValueError, SyntaxError) as e:\n",
    "    print(\"Could not parse allocations into dictionary format. Raw response shown above.\")\n",
    "\n"
   ]
  }
 ],
 "metadata": {
  "kernelspec": {
   "display_name": "base",
   "language": "python",
   "name": "python3"
  },
  "language_info": {
   "codemirror_mode": {
    "name": "ipython",
    "version": 3
   },
   "file_extension": ".py",
   "mimetype": "text/x-python",
   "name": "python",
   "nbconvert_exporter": "python",
   "pygments_lexer": "ipython3",
   "version": "3.11.7"
  }
 },
 "nbformat": 4,
 "nbformat_minor": 2
}
