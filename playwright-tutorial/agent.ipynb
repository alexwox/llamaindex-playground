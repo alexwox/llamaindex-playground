{
 "cells": [
  {
   "cell_type": "code",
   "execution_count": 5,
   "metadata": {},
   "outputs": [],
   "source": [
    "import os\n",
    "from dotenv import load_dotenv\n",
    "\n",
    "# Load environment variables from ../.env\n",
    "load_dotenv(dotenv_path='../.env')\n",
    "\n",
    "# Access the OPENAI_API_KEY\n",
    "openai_api_key = os.getenv('OPENAI_API_KEY')\n",
    "borsdata_api_key = os.getenv('BORSDATA_API_KEY')\n",
    "\n",
    "if openai_api_key is None:\n",
    "    raise ValueError(\"OPENAI_API_KEY not found in the environment variables\")\n",
    "if borsdata_api_key is None:\n",
    "    raise ValueError(\"BORSDATA_API_KEY not found in the environment variables\")"
   ]
  },
  {
   "cell_type": "code",
   "execution_count": 13,
   "metadata": {},
   "outputs": [],
   "source": [
    "from llama_index.core.tools import FunctionTool\n",
    "from llama_index.core.agent import ReActAgent\n",
    "from llama_index.llms.openai import OpenAI\n",
    "from playwright.sync_api import Page, expect\n",
    "import re\n",
    "from pydantic import BaseModel\n",
    "from typing import Any\n",
    "\n",
    "# Define a sample tool\n",
    "def test_has_title(page: Page):\n",
    "    page.goto(\"https://playwright.dev/\")\n",
    "\n",
    "    # Expect a title \"to contain\" a substring.\n",
    "    expect(page).to_have_title(re.compile(\"Playwright\"))\n",
    "\n",
    "def test_get_started_link(page: Page):\n",
    "    page.goto(\"https://playwright.dev/\")\n",
    "\n",
    "    # Click the get started link.\n",
    "    page.get_by_role(\"link\", name=\"Get started\").click()\n",
    "\n",
    "    # Expects page to have a heading with the name of Installation.\n",
    "    expect(page.get_by_role(\"heading\", name=\"Installation\")).to_be_visible()\n",
    "\n",
    "class PageInput(BaseModel):\n",
    "    page: Any  # Using Any since we can't directly schema-tize the Page object\n",
    "    \n",
    "    class Config:\n",
    "        arbitrary_types_allowed = True  # Allow arbitrary types like Page\n",
    "\n",
    "# Modify the tool creation\n",
    "title_tool = FunctionTool.from_defaults(\n",
    "    fn=test_has_title,\n",
    "    fn_schema=PageInput\n",
    ")\n",
    "link_tool = FunctionTool.from_defaults(\n",
    "    fn=test_get_started_link,\n",
    "    fn_schema=PageInput\n",
    ")\n",
    "# Initialize the LLM\n",
    "llm = OpenAI(model=\"gpt-3.5-turbo\")\n",
    "\n",
    "# Create the ReAct agent with the tool and LLM\n",
    "agent = ReActAgent.from_tools([title_tool, link_tool], llm=llm, verbose=True)"
   ]
  },
  {
   "cell_type": "code",
   "execution_count": 14,
   "metadata": {},
   "outputs": [
    {
     "name": "stdout",
     "output_type": "stream",
     "text": [
      "> Running step 0300b105-b1f7-4010-a6ac-c3dc45b414c8. Step input: What is the title of the page?\n",
      "\u001b[1;3;38;5;200mThought: I can start by using the tool to check if the page has a title.\n",
      "Action: test_has_title\n",
      "Action Input: {'page': 'Page'}\n",
      "\u001b[0m\u001b[1;3;34mObservation: Error: 'str' object has no attribute 'goto'\n",
      "\u001b[0m> Running step c7403add-fbed-4572-8aec-5cc54ea23d2a. Step input: None\n",
      "\u001b[1;3;34mObservation: Error: Could not parse output. Please follow the thought-action-input format. Try again.\n",
      "\u001b[0m> Running step 3263e6e6-8711-428f-95d6-f85451a882ad. Step input: None\n",
      "\u001b[1;3;38;5;200mThought: I can start by using the tool to check if the page has a title.\n",
      "Action: test_has_title\n",
      "Action Input: {}\n",
      "\u001b[0m\u001b[1;3;34mObservation: Error: test_has_title() missing 1 required positional argument: 'page'\n",
      "\u001b[0m> Running step e140c4b6-addc-4fe8-abf0-cf911900097b. Step input: None\n",
      "\u001b[1;3;38;5;200mThought: I can answer without using any more tools. I'll use the user's language to answer\n",
      "Answer: The title of the page is not available at the moment.\n",
      "\u001b[0m"
     ]
    },
    {
     "data": {
      "text/plain": [
       "AgentChatResponse(response='The title of the page is not available at the moment.', sources=[ToolOutput(content=\"Error: 'str' object has no attribute 'goto'\", tool_name='test_has_title', raw_input={'kwargs': {'page': 'Page'}}, raw_output=AttributeError(\"'str' object has no attribute 'goto'\"), is_error=True), ToolOutput(content='Error: Could not parse output. Please follow the thought-action-input format. Try again.', tool_name='unknown', raw_input={}, raw_output='Error: Could not parse output. Please follow the thought-action-input format. Try again.', is_error=False), ToolOutput(content=\"Error: test_has_title() missing 1 required positional argument: 'page'\", tool_name='test_has_title', raw_input={'kwargs': {}}, raw_output=TypeError(\"test_has_title() missing 1 required positional argument: 'page'\"), is_error=True)], source_nodes=[], is_dummy_stream=False, metadata=None)"
      ]
     },
     "execution_count": 14,
     "metadata": {},
     "output_type": "execute_result"
    }
   ],
   "source": [
    "agent.chat(\"What is the title of the page?\")"
   ]
  }
 ],
 "metadata": {
  "kernelspec": {
   "display_name": "base",
   "language": "python",
   "name": "python3"
  },
  "language_info": {
   "codemirror_mode": {
    "name": "ipython",
    "version": 3
   },
   "file_extension": ".py",
   "mimetype": "text/x-python",
   "name": "python",
   "nbconvert_exporter": "python",
   "pygments_lexer": "ipython3",
   "version": "3.11.7"
  }
 },
 "nbformat": 4,
 "nbformat_minor": 2
}
