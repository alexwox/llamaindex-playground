{
 "cells": [
  {
   "cell_type": "code",
   "execution_count": 11,
   "metadata": {},
   "outputs": [],
   "source": [
    "import asyncio\n",
    "from playwright.async_api import async_playwright\n",
    "from llama_index.core.tools import FunctionTool\n",
    "from llama_index.core.agent import ReActAgent\n",
    "from llama_index.llms.openai import OpenAI\n",
    "from playwright.sync_api import Page, expect\n",
    "import re\n",
    "from pydantic import BaseModel\n",
    "from typing import Any\n",
    "\n",
    "async def main():\n",
    "    \"\"\"Run without any arguments to get the title of the page\"\"\"\n",
    "    \n",
    "    async with async_playwright() as p:\n",
    "        browser = await p.chromium.launch()\n",
    "        page = await browser.new_page()\n",
    "        await page.goto(\"http://playwright.dev\")\n",
    "        title = (await page.title())\n",
    "        await browser.close()\n",
    "        return title\n",
    "\n",
    "# Replace asyncio.run(main()) with:\n",
    "await main()\n",
    "\n",
    "title_tool = FunctionTool.from_defaults(\n",
    "    async_fn=main,\n",
    "    \n",
    ")\n",
    "\n",
    "# Initialize the LLM\n",
    "llm = OpenAI(model=\"gpt-3.5-turbo\")\n",
    "\n",
    "# Create the ReAct agent with the tool and LLM\n",
    "agent = ReActAgent.from_tools([title_tool], llm=llm, verbose=True)\n",
    "\n"
   ]
  },
  {
   "cell_type": "code",
   "execution_count": 10,
   "metadata": {},
   "outputs": [
    {
     "name": "stdout",
     "output_type": "stream",
     "text": [
      "> Running step 7ee01f03-b56b-4da8-9542-c1eafeb0324f. Step input: What is the title of the page?\n",
      "\u001b[1;3;38;5;200mThought: The current language of the user is English. I need to use a tool to help me answer the question.\n",
      "Action: main\n",
      "Action Input: {}\n",
      "\u001b[0m\u001b[1;3;34mObservation: Error: Detected nested async. Please use nest_asyncio.apply() to allow nested event loops.Or, use async entry methods like `aquery()`, `aretriever`, `achat`, etc.\n",
      "\u001b[0m> Running step 89b8a3ac-dc98-4337-8c4b-94cfead0172e. Step input: None\n",
      "\u001b[1;3;38;5;200mThought: I can answer without using any more tools. I'll use the user's language to answer\n",
      "Answer: It seems there was an error related to nested async operations. The suggestion is to use `nest_asyncio.apply()` to allow nested event loops or use async entry methods like `aquery()`, `aretriever()`, `achat()`, etc.\n",
      "\u001b[0m"
     ]
    },
    {
     "data": {
      "text/plain": [
       "AgentChatResponse(response='It seems there was an error related to nested async operations. The suggestion is to use `nest_asyncio.apply()` to allow nested event loops or use async entry methods like `aquery()`, `aretriever()`, `achat()`, etc.', sources=[ToolOutput(content='Error: Detected nested async. Please use nest_asyncio.apply() to allow nested event loops.Or, use async entry methods like `aquery()`, `aretriever`, `achat`, etc.', tool_name='main', raw_input={'kwargs': {}}, raw_output=RuntimeError('Detected nested async. Please use nest_asyncio.apply() to allow nested event loops.Or, use async entry methods like `aquery()`, `aretriever`, `achat`, etc.'), is_error=True)], source_nodes=[], is_dummy_stream=False, metadata=None)"
      ]
     },
     "execution_count": 10,
     "metadata": {},
     "output_type": "execute_result"
    }
   ],
   "source": [
    "agent.chat(\"What is the title of the page?\")"
   ]
  }
 ],
 "metadata": {
  "kernelspec": {
   "display_name": "base",
   "language": "python",
   "name": "python3"
  },
  "language_info": {
   "codemirror_mode": {
    "name": "ipython",
    "version": 3
   },
   "file_extension": ".py",
   "mimetype": "text/x-python",
   "name": "python",
   "nbconvert_exporter": "python",
   "pygments_lexer": "ipython3",
   "version": "3.11.7"
  }
 },
 "nbformat": 4,
 "nbformat_minor": 2
}
